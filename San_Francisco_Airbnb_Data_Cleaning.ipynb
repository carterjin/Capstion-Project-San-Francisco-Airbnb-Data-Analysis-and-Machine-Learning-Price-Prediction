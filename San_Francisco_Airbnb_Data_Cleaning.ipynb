{
 "cells": [
  {
   "cell_type": "markdown",
   "metadata": {},
   "source": [
    "# San Francisco Airbnb Data Analysis\n",
    "\n",
    "## Introduction\n",
    "### Motivation\n",
    "Airbnb is an online marketplace for arranging or offering lodging, primarily homestays, or tourism experiences. Airbnb is founded in 2008 and based in San Francisco, California. San Francisco is also the place where I am most interested in developing my own data analyst/scientist career. Also, analysis of these housing data is very valuable for business decisions.\n",
    "\n",
    "### Business Understanding\n",
    "Some of the questions I want to answer are:\n",
    "\n",
    "1. What are the locations that people rent Airbnb?\n",
    "2. How does neighborhood affect pricing?\n",
    "3. Do superhosts provide a better renting experience?\n",
    "4. Can we provide a prediction on pricing given the information we are provided, if so which method does that best?\n",
    "\n",
    "## Data Understanding\n",
    "\n",
    "The Data used in this project is obtained from the website _Inside Airbnb_ , http://insideairbnb.com/. This is a website that collects data from publicly available information on Airbnb, it contains very detailed information craped from Airbnb listings all over the world, updated monthly. The data we used is all the listings in San Francisco, from 2019/04 to 2020/04. The data contains in total 12074 rows and 82 columns with relevant data about listings, including location, neighbourhood, prices and fees, review scores, host information, detailed listing description and images etc. \n",
    "\n",
    "In this section, we will load the data, check for cleanliness, and then clean the data."
   ]
  },
  {
   "cell_type": "code",
   "execution_count": 2,
   "metadata": {},
   "outputs": [],
   "source": [
    "import numpy as np\n",
    "import pandas as pd\n",
    "from urllib.request import urlopen\n",
    "import matplotlib.pyplot as plt\n",
    "import seaborn\n",
    "from tqdm import tqdm"
   ]
  },
  {
   "cell_type": "code",
   "execution_count": 3,
   "metadata": {
    "tags": []
   },
   "outputs": [
    {
     "output_type": "stream",
     "name": "stderr",
     "text": "100%|██████████| 14/14 [00:34<00:00,  2.47s/it]\n"
    }
   ],
   "source": [
    "def load_data():\n",
    "    '''\n",
    "    INPUT: None\n",
    "    OUTPUT: A data frame with loaded airbnb listing data, no duplicate listing id.\n",
    "    '''\n",
    "    df = pd.DataFrame()\n",
    "    filelist = ['2020-04-07','2020-03-13','2020-02-12','2020-01-04','2020-01-02','2019-12-04','2019-11-01','2019-10-14',\n",
    "                '2019-09-12','2019-08-06','2019-07-08','2019-06-02','2019-05-03','2019-04-03']\n",
    "    for file in tqdm(filelist):\n",
    "        try:\n",
    "            url = \"http://data.insideairbnb.com/united-states/ca/san-francisco/\"+file+\"/data/listings.csv.gz\"\n",
    "            resp = urlopen(url)\n",
    "            df_temp = pd.read_csv(resp, compression = 'gzip')\n",
    "            df = df.append(df_temp)\n",
    "            # For the records from the same id, we take the newer record\n",
    "            df = df[~df.id.duplicated()]\n",
    "        except:\n",
    "            print(file, ' fail')\n",
    "    return df\n",
    "df = load_data()"
   ]
  },
  {
   "cell_type": "markdown",
   "metadata": {},
   "source": [
    "## Cleaning\n",
    "\n",
    "Consider the length of this notebook, I am not showing the full inspection process of 106 columns but you can definitely check the conclusions.\n",
    "\n",
    "I am first dropping columns that we definitely not using, they are empty meaningless or can be easily get from other data in the dataset."
   ]
  },
  {
   "cell_type": "code",
   "execution_count": 10,
   "metadata": {},
   "outputs": [],
   "source": [
    "drop_list = ['listing_url','scrape_id','experiences_offered','thumbnail_url','medium_url','xl_picture_url',\n",
    "             'host_thumbnail_url', 'neighbourhood_group_cleansed', 'city','state','market','smart_location',\n",
    "            'country_code', 'country', 'square_feet', 'minimum_minimum_nights', 'maximum_minimum_nights',\n",
    "             'minimum_maximum_nights', 'maximum_maximum_nights', 'minimum_nights_avg_ntm','maximum_nights_avg_ntm',\n",
    "             'calendar_last_scraped','jurisdiction_names']\n",
    "df_dropped = df.drop(labels = drop_list, axis = 1)"
   ]
  },
  {
   "cell_type": "markdown",
   "metadata": {},
   "source": [
    "Due to the large amount of columns we will first clean items that are relavant or easy to clean.\n",
    "1. change some rows of t/f to boolean type\n",
    "2. change prices to float type."
   ]
  },
  {
   "cell_type": "code",
   "execution_count": 11,
   "metadata": {
    "tags": []
   },
   "outputs": [
    {
     "output_type": "stream",
     "name": "stdout",
     "text": "<class 'pandas.core.frame.DataFrame'>\nInt64Index: 12074 entries, 0 to 7275\nColumns: 106 entries, id to reviews_per_month\ndtypes: float64(22), int64(21), object(63)\nmemory usage: 10.2+ MB\n"
    }
   ],
   "source": [
    "df.info()"
   ]
  },
  {
   "cell_type": "code",
   "execution_count": 12,
   "metadata": {},
   "outputs": [],
   "source": [
    "cols_to_bool = ['host_is_superhost','host_has_profile_pic','host_identity_verified','has_availability','instant_bookable',\n",
    "                'is_business_travel_ready','require_guest_profile_picture','require_guest_phone_verification']\n",
    "cols_to_price = ['price','weekly_price','monthly_price','security_deposit','cleaning_fee','extra_people']\n",
    "cols_to_datetime = ['last_scraped', 'first_review','last_review']\n",
    "cols_to_perc = ['host_response_rate','host_acceptance_rate']\n",
    "cols_to_str = ['id','host_id']"
   ]
  },
  {
   "cell_type": "code",
   "execution_count": 13,
   "metadata": {},
   "outputs": [],
   "source": [
    "df_dropped[cols_to_bool] = (df_dropped[cols_to_bool] == 't')"
   ]
  },
  {
   "cell_type": "code",
   "execution_count": 14,
   "metadata": {},
   "outputs": [],
   "source": [
    "def clean_currency(x):\n",
    "    if isinstance(x, str):\n",
    "        return x.replace('$','').replace(',','')\n",
    "    else: return x\n",
    "for col in cols_to_price:\n",
    "    df_dropped[col] = df_dropped[col].apply(clean_currency).astype('float')"
   ]
  },
  {
   "cell_type": "markdown",
   "metadata": {},
   "source": [
    "I am converting datetime columns from a string to datetime type."
   ]
  },
  {
   "cell_type": "code",
   "execution_count": 15,
   "metadata": {},
   "outputs": [],
   "source": [
    "df_dropped[cols_to_datetime] = df_dropped[cols_to_datetime].apply(lambda x: pd.to_datetime(x))"
   ]
  },
  {
   "cell_type": "markdown",
   "metadata": {},
   "source": [
    "I am converting columns that are percentage from '90%' form to a float 0.9."
   ]
  },
  {
   "cell_type": "code",
   "execution_count": 16,
   "metadata": {},
   "outputs": [],
   "source": [
    "def clean_perc(x):\n",
    "    if isinstance(x, str):\n",
    "        return x.replace('%','')\n",
    "    else: return x\n",
    "for col in cols_to_perc:\n",
    "    df_dropped[col] = df_dropped[col].apply(clean_perc).astype('float')/100"
   ]
  },
  {
   "cell_type": "markdown",
   "metadata": {},
   "source": [
    "I am changing id columns to string because the numerical values of these columns are meaningless."
   ]
  },
  {
   "cell_type": "code",
   "execution_count": 17,
   "metadata": {},
   "outputs": [],
   "source": [
    "for col in cols_to_str:\n",
    "    df_dropped[col] = df_dropped[col].astype(str)"
   ]
  },
  {
   "cell_type": "code",
   "execution_count": 18,
   "metadata": {
    "tags": []
   },
   "outputs": [
    {
     "output_type": "stream",
     "name": "stdout",
     "text": "<class 'pandas.core.frame.DataFrame'>\nInt64Index: 12074 entries, 0 to 7275\nData columns (total 83 columns):\n #   Column                                        Non-Null Count  Dtype         \n---  ------                                        --------------  -----         \n 0   id                                            12074 non-null  object        \n 1   last_scraped                                  12074 non-null  datetime64[ns]\n 2   name                                          12074 non-null  object        \n 3   summary                                       11730 non-null  object        \n 4   space                                         10064 non-null  object        \n 5   description                                   11947 non-null  object        \n 6   neighborhood_overview                         8759 non-null   object        \n 7   notes                                         6860 non-null   object        \n 8   transit                                       8106 non-null   object        \n 9   access                                        7100 non-null   object        \n 10  interaction                                   7830 non-null   object        \n 11  house_rules                                   8520 non-null   object        \n 12  picture_url                                   12074 non-null  object        \n 13  host_id                                       12074 non-null  object        \n 14  host_url                                      12074 non-null  object        \n 15  host_name                                     12070 non-null  object        \n 16  host_since                                    12070 non-null  object        \n 17  host_location                                 12064 non-null  object        \n 18  host_about                                    8807 non-null   object        \n 19  host_response_time                            10364 non-null  object        \n 20  host_response_rate                            10364 non-null  float64       \n 21  host_acceptance_rate                          8516 non-null   float64       \n 22  host_is_superhost                             12074 non-null  bool          \n 23  host_picture_url                              12070 non-null  object        \n 24  host_neighbourhood                            11290 non-null  object        \n 25  host_listings_count                           12070 non-null  float64       \n 26  host_total_listings_count                     12070 non-null  float64       \n 27  host_verifications                            12074 non-null  object        \n 28  host_has_profile_pic                          12074 non-null  bool          \n 29  host_identity_verified                        12074 non-null  bool          \n 30  street                                        12074 non-null  object        \n 31  neighbourhood                                 12013 non-null  object        \n 32  neighbourhood_cleansed                        12074 non-null  object        \n 33  zipcode                                       12014 non-null  object        \n 34  latitude                                      12074 non-null  float64       \n 35  longitude                                     12074 non-null  float64       \n 36  is_location_exact                             12074 non-null  object        \n 37  property_type                                 12074 non-null  object        \n 38  room_type                                     12074 non-null  object        \n 39  accommodates                                  12074 non-null  int64         \n 40  bathrooms                                     12064 non-null  float64       \n 41  bedrooms                                      12065 non-null  float64       \n 42  beds                                          12007 non-null  float64       \n 43  bed_type                                      12074 non-null  object        \n 44  amenities                                     12074 non-null  object        \n 45  price                                         12074 non-null  float64       \n 46  weekly_price                                  1293 non-null   float64       \n 47  monthly_price                                 1288 non-null   float64       \n 48  security_deposit                              9555 non-null   float64       \n 49  cleaning_fee                                  10619 non-null  float64       \n 50  guests_included                               12074 non-null  int64         \n 51  extra_people                                  12074 non-null  float64       \n 52  minimum_nights                                12074 non-null  int64         \n 53  maximum_nights                                12074 non-null  int64         \n 54  calendar_updated                              12074 non-null  object        \n 55  has_availability                              12074 non-null  bool          \n 56  availability_30                               12074 non-null  int64         \n 57  availability_60                               12074 non-null  int64         \n 58  availability_90                               12074 non-null  int64         \n 59  availability_365                              12074 non-null  int64         \n 60  number_of_reviews                             12074 non-null  int64         \n 61  number_of_reviews_ltm                         12074 non-null  int64         \n 62  first_review                                  8891 non-null   datetime64[ns]\n 63  last_review                                   8891 non-null   datetime64[ns]\n 64  review_scores_rating                          8777 non-null   float64       \n 65  review_scores_accuracy                        8761 non-null   float64       \n 66  review_scores_cleanliness                     8762 non-null   float64       \n 67  review_scores_checkin                         8759 non-null   float64       \n 68  review_scores_communication                   8763 non-null   float64       \n 69  review_scores_location                        8759 non-null   float64       \n 70  review_scores_value                           8759 non-null   float64       \n 71  requires_license                              12074 non-null  object        \n 72  license                                       7149 non-null   object        \n 73  instant_bookable                              12074 non-null  bool          \n 74  is_business_travel_ready                      12074 non-null  bool          \n 75  cancellation_policy                           12074 non-null  object        \n 76  require_guest_profile_picture                 12074 non-null  bool          \n 77  require_guest_phone_verification              12074 non-null  bool          \n 78  calculated_host_listings_count                12074 non-null  int64         \n 79  calculated_host_listings_count_entire_homes   12074 non-null  int64         \n 80  calculated_host_listings_count_private_rooms  12074 non-null  int64         \n 81  calculated_host_listings_count_shared_rooms   12074 non-null  int64         \n 82  reviews_per_month                             8891 non-null   float64       \ndtypes: bool(8), datetime64[ns](3), float64(23), int64(14), object(35)\nmemory usage: 7.4+ MB\n"
    }
   ],
   "source": [
    "df_dropped.info()"
   ]
  },
  {
   "cell_type": "code",
   "execution_count": 19,
   "metadata": {},
   "outputs": [
    {
     "output_type": "execute_result",
     "data": {
      "text/plain": "       host_response_rate  host_acceptance_rate  host_listings_count  \\\ncount        10364.000000           8516.000000         12070.000000   \nmean             0.949767              0.880082           115.239685   \nstd              0.146818              0.196440           428.131384   \nmin              0.000000              0.000000             0.000000   \n25%              1.000000              0.820000             1.000000   \n50%              1.000000              0.980000             2.000000   \n75%              1.000000              1.000000            12.000000   \nmax              1.000000              1.000000          2347.000000   \n\n       host_total_listings_count      latitude     longitude  accommodates  \\\ncount               12070.000000  12074.000000  12074.000000  12074.000000   \nmean                  115.239685     37.766015   -122.429654      3.153470   \nstd                   428.131384      0.023899      0.027050      1.983336   \nmin                     0.000000     37.704170   -122.513060      1.000000   \n25%                     1.000000     37.751243   -122.442717      2.000000   \n50%                     2.000000     37.770050   -122.423720      2.000000   \n75%                    12.000000     37.785850   -122.410360      4.000000   \nmax                  2347.000000     37.828790   -122.367020     16.000000   \n\n          bathrooms      bedrooms          beds  ...  \\\ncount  12064.000000  12065.000000  12007.000000  ...   \nmean       1.409773      1.351513      1.746315  ...   \nstd        0.923997      0.963192      1.263385  ...   \nmin        0.000000      0.000000      0.000000  ...   \n25%        1.000000      1.000000      1.000000  ...   \n50%        1.000000      1.000000      1.000000  ...   \n75%        1.500000      2.000000      2.000000  ...   \nmax       14.000000     30.000000     30.000000  ...   \n\n       review_scores_cleanliness  review_scores_checkin  \\\ncount                8762.000000            8759.000000   \nmean                    9.569276               9.818587   \nstd                     0.894532               0.671810   \nmin                     2.000000               2.000000   \n25%                     9.000000              10.000000   \n50%                    10.000000              10.000000   \n75%                    10.000000              10.000000   \nmax                    10.000000              10.000000   \n\n       review_scores_communication  review_scores_location  \\\ncount                  8763.000000             8759.000000   \nmean                      9.783864                9.678845   \nstd                       0.738809                0.742596   \nmin                       2.000000                2.000000   \n25%                      10.000000               10.000000   \n50%                      10.000000               10.000000   \n75%                      10.000000               10.000000   \nmax                      10.000000               10.000000   \n\n       review_scores_value  calculated_host_listings_count  \\\ncount          8759.000000                    12074.000000   \nmean              9.352552                       25.947656   \nstd               0.928804                       64.851421   \nmin               2.000000                        1.000000   \n25%               9.000000                        1.000000   \n50%              10.000000                        2.000000   \n75%              10.000000                        9.000000   \nmax              10.000000                      301.000000   \n\n       calculated_host_listings_count_entire_homes  \\\ncount                                 12074.000000   \nmean                                     20.978218   \nstd                                      62.305973   \nmin                                       0.000000   \n25%                                       0.000000   \n50%                                       1.000000   \n75%                                       2.000000   \nmax                                     301.000000   \n\n       calculated_host_listings_count_private_rooms  \\\ncount                                  12074.000000   \nmean                                       4.004721   \nstd                                       10.888533   \nmin                                        0.000000   \n25%                                        0.000000   \n50%                                        0.000000   \n75%                                        2.000000   \nmax                                       87.000000   \n\n       calculated_host_listings_count_shared_rooms  reviews_per_month  \ncount                                 12074.000000        8891.000000  \nmean                                      0.779443           1.641264  \nstd                                       4.035210           1.936059  \nmin                                       0.000000           0.010000  \n25%                                       0.000000           0.260000  \n50%                                       0.000000           0.900000  \n75%                                       0.000000           2.410000  \nmax                                      36.000000          31.020000  \n\n[8 rows x 37 columns]",
      "text/html": "<div>\n<style scoped>\n    .dataframe tbody tr th:only-of-type {\n        vertical-align: middle;\n    }\n\n    .dataframe tbody tr th {\n        vertical-align: top;\n    }\n\n    .dataframe thead th {\n        text-align: right;\n    }\n</style>\n<table border=\"1\" class=\"dataframe\">\n  <thead>\n    <tr style=\"text-align: right;\">\n      <th></th>\n      <th>host_response_rate</th>\n      <th>host_acceptance_rate</th>\n      <th>host_listings_count</th>\n      <th>host_total_listings_count</th>\n      <th>latitude</th>\n      <th>longitude</th>\n      <th>accommodates</th>\n      <th>bathrooms</th>\n      <th>bedrooms</th>\n      <th>beds</th>\n      <th>...</th>\n      <th>review_scores_cleanliness</th>\n      <th>review_scores_checkin</th>\n      <th>review_scores_communication</th>\n      <th>review_scores_location</th>\n      <th>review_scores_value</th>\n      <th>calculated_host_listings_count</th>\n      <th>calculated_host_listings_count_entire_homes</th>\n      <th>calculated_host_listings_count_private_rooms</th>\n      <th>calculated_host_listings_count_shared_rooms</th>\n      <th>reviews_per_month</th>\n    </tr>\n  </thead>\n  <tbody>\n    <tr>\n      <th>count</th>\n      <td>10364.000000</td>\n      <td>8516.000000</td>\n      <td>12070.000000</td>\n      <td>12070.000000</td>\n      <td>12074.000000</td>\n      <td>12074.000000</td>\n      <td>12074.000000</td>\n      <td>12064.000000</td>\n      <td>12065.000000</td>\n      <td>12007.000000</td>\n      <td>...</td>\n      <td>8762.000000</td>\n      <td>8759.000000</td>\n      <td>8763.000000</td>\n      <td>8759.000000</td>\n      <td>8759.000000</td>\n      <td>12074.000000</td>\n      <td>12074.000000</td>\n      <td>12074.000000</td>\n      <td>12074.000000</td>\n      <td>8891.000000</td>\n    </tr>\n    <tr>\n      <th>mean</th>\n      <td>0.949767</td>\n      <td>0.880082</td>\n      <td>115.239685</td>\n      <td>115.239685</td>\n      <td>37.766015</td>\n      <td>-122.429654</td>\n      <td>3.153470</td>\n      <td>1.409773</td>\n      <td>1.351513</td>\n      <td>1.746315</td>\n      <td>...</td>\n      <td>9.569276</td>\n      <td>9.818587</td>\n      <td>9.783864</td>\n      <td>9.678845</td>\n      <td>9.352552</td>\n      <td>25.947656</td>\n      <td>20.978218</td>\n      <td>4.004721</td>\n      <td>0.779443</td>\n      <td>1.641264</td>\n    </tr>\n    <tr>\n      <th>std</th>\n      <td>0.146818</td>\n      <td>0.196440</td>\n      <td>428.131384</td>\n      <td>428.131384</td>\n      <td>0.023899</td>\n      <td>0.027050</td>\n      <td>1.983336</td>\n      <td>0.923997</td>\n      <td>0.963192</td>\n      <td>1.263385</td>\n      <td>...</td>\n      <td>0.894532</td>\n      <td>0.671810</td>\n      <td>0.738809</td>\n      <td>0.742596</td>\n      <td>0.928804</td>\n      <td>64.851421</td>\n      <td>62.305973</td>\n      <td>10.888533</td>\n      <td>4.035210</td>\n      <td>1.936059</td>\n    </tr>\n    <tr>\n      <th>min</th>\n      <td>0.000000</td>\n      <td>0.000000</td>\n      <td>0.000000</td>\n      <td>0.000000</td>\n      <td>37.704170</td>\n      <td>-122.513060</td>\n      <td>1.000000</td>\n      <td>0.000000</td>\n      <td>0.000000</td>\n      <td>0.000000</td>\n      <td>...</td>\n      <td>2.000000</td>\n      <td>2.000000</td>\n      <td>2.000000</td>\n      <td>2.000000</td>\n      <td>2.000000</td>\n      <td>1.000000</td>\n      <td>0.000000</td>\n      <td>0.000000</td>\n      <td>0.000000</td>\n      <td>0.010000</td>\n    </tr>\n    <tr>\n      <th>25%</th>\n      <td>1.000000</td>\n      <td>0.820000</td>\n      <td>1.000000</td>\n      <td>1.000000</td>\n      <td>37.751243</td>\n      <td>-122.442717</td>\n      <td>2.000000</td>\n      <td>1.000000</td>\n      <td>1.000000</td>\n      <td>1.000000</td>\n      <td>...</td>\n      <td>9.000000</td>\n      <td>10.000000</td>\n      <td>10.000000</td>\n      <td>10.000000</td>\n      <td>9.000000</td>\n      <td>1.000000</td>\n      <td>0.000000</td>\n      <td>0.000000</td>\n      <td>0.000000</td>\n      <td>0.260000</td>\n    </tr>\n    <tr>\n      <th>50%</th>\n      <td>1.000000</td>\n      <td>0.980000</td>\n      <td>2.000000</td>\n      <td>2.000000</td>\n      <td>37.770050</td>\n      <td>-122.423720</td>\n      <td>2.000000</td>\n      <td>1.000000</td>\n      <td>1.000000</td>\n      <td>1.000000</td>\n      <td>...</td>\n      <td>10.000000</td>\n      <td>10.000000</td>\n      <td>10.000000</td>\n      <td>10.000000</td>\n      <td>10.000000</td>\n      <td>2.000000</td>\n      <td>1.000000</td>\n      <td>0.000000</td>\n      <td>0.000000</td>\n      <td>0.900000</td>\n    </tr>\n    <tr>\n      <th>75%</th>\n      <td>1.000000</td>\n      <td>1.000000</td>\n      <td>12.000000</td>\n      <td>12.000000</td>\n      <td>37.785850</td>\n      <td>-122.410360</td>\n      <td>4.000000</td>\n      <td>1.500000</td>\n      <td>2.000000</td>\n      <td>2.000000</td>\n      <td>...</td>\n      <td>10.000000</td>\n      <td>10.000000</td>\n      <td>10.000000</td>\n      <td>10.000000</td>\n      <td>10.000000</td>\n      <td>9.000000</td>\n      <td>2.000000</td>\n      <td>2.000000</td>\n      <td>0.000000</td>\n      <td>2.410000</td>\n    </tr>\n    <tr>\n      <th>max</th>\n      <td>1.000000</td>\n      <td>1.000000</td>\n      <td>2347.000000</td>\n      <td>2347.000000</td>\n      <td>37.828790</td>\n      <td>-122.367020</td>\n      <td>16.000000</td>\n      <td>14.000000</td>\n      <td>30.000000</td>\n      <td>30.000000</td>\n      <td>...</td>\n      <td>10.000000</td>\n      <td>10.000000</td>\n      <td>10.000000</td>\n      <td>10.000000</td>\n      <td>10.000000</td>\n      <td>301.000000</td>\n      <td>301.000000</td>\n      <td>87.000000</td>\n      <td>36.000000</td>\n      <td>31.020000</td>\n    </tr>\n  </tbody>\n</table>\n<p>8 rows × 37 columns</p>\n</div>"
     },
     "metadata": {},
     "execution_count": 19
    }
   ],
   "source": [
    "df_dropped.describe()"
   ]
  },
  {
   "cell_type": "markdown",
   "metadata": {},
   "source": [
    "### Wrap the process up as a pipeline"
   ]
  },
  {
   "cell_type": "code",
   "execution_count": 21,
   "metadata": {},
   "outputs": [],
   "source": [
    "def clean_data(df):\n",
    "    '''\n",
    "    INPUT: The dataframe containing unprocessed data (106 columns).\n",
    "    OUTPUT: A dataframe containing the cleaned data (82 columns, with boolean, percentage, currency, etc in the correct data type)\n",
    "    '''\n",
    "    # Define the columns that are no longer needed because they are duplicate, empty, or meaningless\n",
    "    drop_list = ['listing_url','scrape_id','experiences_offered','thumbnail_url','medium_url','xl_picture_url',\n",
    "             'host_thumbnail_url', 'neighbourhood_group_cleansed', 'city','state','market','smart_location',\n",
    "            'country_code', 'country', 'square_feet', 'minimum_minimum_nights', 'maximum_minimum_nights',\n",
    "             'minimum_maximum_nights', 'maximum_maximum_nights', 'minimum_nights_avg_ntm','maximum_nights_avg_ntm',\n",
    "             'calendar_last_scraped','jurisdiction_names']\n",
    "    df_dropped = df.drop(labels = drop_list, axis = 1)\n",
    "    \n",
    "    # Define the columns that need to adjust data type\n",
    "    cols_to_bool = ['host_is_superhost','host_has_profile_pic','host_identity_verified','has_availability','instant_bookable',\n",
    "                'is_business_travel_ready','require_guest_profile_picture','require_guest_phone_verification']\n",
    "    cols_to_price = ['price','weekly_price','monthly_price','security_deposit','cleaning_fee','extra_people']\n",
    "    cols_to_datetime = ['last_scraped', 'first_review','last_review']\n",
    "    cols_to_perc = ['host_response_rate','host_acceptance_rate']\n",
    "    cols_to_str = ['id','host_id']\n",
    "\n",
    "    # change boolean values from 't' or 'f' to boolean type\n",
    "    df_dropped[cols_to_bool] = (df_dropped[cols_to_bool] == 't')\n",
    "\n",
    "    # change price from the form '$1,200.00' to a float 1200\n",
    "    for col in cols_to_price:\n",
    "        df_dropped[col] = df_dropped[col].apply(clean_currency).astype('float')\n",
    "    \n",
    "    # change datetime from string form to datetime type\n",
    "    df_dropped[cols_to_datetime] = df_dropped[cols_to_datetime].apply(lambda x: pd.to_datetime(x))\n",
    "\n",
    "    # change percentage data from form '90%' to float value 0.9\n",
    "    for col in cols_to_perc:\n",
    "        df_dropped[col] = df_dropped[col].apply(clean_perc).astype('float')/100\n",
    "\n",
    "    # change id columns to string because their numerical values are meaningless\n",
    "    for col in cols_to_str:\n",
    "        df_dropped[col] = df_dropped[col].astype(str)\n",
    "\n",
    "    return df_dropped"
   ]
  },
  {
   "cell_type": "code",
   "execution_count": 22,
   "metadata": {
    "tags": []
   },
   "outputs": [
    {
     "output_type": "stream",
     "name": "stderr",
     "text": "100%|██████████| 14/14 [00:36<00:00,  2.62s/it]\n<class 'pandas.core.frame.DataFrame'>\nInt64Index: 12074 entries, 0 to 7275\nData columns (total 83 columns):\n #   Column                                        Non-Null Count  Dtype         \n---  ------                                        --------------  -----         \n 0   id                                            12074 non-null  object        \n 1   last_scraped                                  12074 non-null  datetime64[ns]\n 2   name                                          12074 non-null  object        \n 3   summary                                       11730 non-null  object        \n 4   space                                         10064 non-null  object        \n 5   description                                   11947 non-null  object        \n 6   neighborhood_overview                         8759 non-null   object        \n 7   notes                                         6860 non-null   object        \n 8   transit                                       8106 non-null   object        \n 9   access                                        7100 non-null   object        \n 10  interaction                                   7830 non-null   object        \n 11  house_rules                                   8520 non-null   object        \n 12  picture_url                                   12074 non-null  object        \n 13  host_id                                       12074 non-null  object        \n 14  host_url                                      12074 non-null  object        \n 15  host_name                                     12070 non-null  object        \n 16  host_since                                    12070 non-null  object        \n 17  host_location                                 12064 non-null  object        \n 18  host_about                                    8807 non-null   object        \n 19  host_response_time                            10364 non-null  object        \n 20  host_response_rate                            10364 non-null  float64       \n 21  host_acceptance_rate                          8516 non-null   float64       \n 22  host_is_superhost                             12074 non-null  bool          \n 23  host_picture_url                              12070 non-null  object        \n 24  host_neighbourhood                            11290 non-null  object        \n 25  host_listings_count                           12070 non-null  float64       \n 26  host_total_listings_count                     12070 non-null  float64       \n 27  host_verifications                            12074 non-null  object        \n 28  host_has_profile_pic                          12074 non-null  bool          \n 29  host_identity_verified                        12074 non-null  bool          \n 30  street                                        12074 non-null  object        \n 31  neighbourhood                                 12013 non-null  object        \n 32  neighbourhood_cleansed                        12074 non-null  object        \n 33  zipcode                                       12014 non-null  object        \n 34  latitude                                      12074 non-null  float64       \n 35  longitude                                     12074 non-null  float64       \n 36  is_location_exact                             12074 non-null  object        \n 37  property_type                                 12074 non-null  object        \n 38  room_type                                     12074 non-null  object        \n 39  accommodates                                  12074 non-null  int64         \n 40  bathrooms                                     12064 non-null  float64       \n 41  bedrooms                                      12065 non-null  float64       \n 42  beds                                          12007 non-null  float64       \n 43  bed_type                                      12074 non-null  object        \n 44  amenities                                     12074 non-null  object        \n 45  price                                         12074 non-null  float64       \n 46  weekly_price                                  1293 non-null   float64       \n 47  monthly_price                                 1288 non-null   float64       \n 48  security_deposit                              9555 non-null   float64       \n 49  cleaning_fee                                  10619 non-null  float64       \n 50  guests_included                               12074 non-null  int64         \n 51  extra_people                                  12074 non-null  float64       \n 52  minimum_nights                                12074 non-null  int64         \n 53  maximum_nights                                12074 non-null  int64         \n 54  calendar_updated                              12074 non-null  object        \n 55  has_availability                              12074 non-null  bool          \n 56  availability_30                               12074 non-null  int64         \n 57  availability_60                               12074 non-null  int64         \n 58  availability_90                               12074 non-null  int64         \n 59  availability_365                              12074 non-null  int64         \n 60  number_of_reviews                             12074 non-null  int64         \n 61  number_of_reviews_ltm                         12074 non-null  int64         \n 62  first_review                                  8891 non-null   datetime64[ns]\n 63  last_review                                   8891 non-null   datetime64[ns]\n 64  review_scores_rating                          8777 non-null   float64       \n 65  review_scores_accuracy                        8761 non-null   float64       \n 66  review_scores_cleanliness                     8762 non-null   float64       \n 67  review_scores_checkin                         8759 non-null   float64       \n 68  review_scores_communication                   8763 non-null   float64       \n 69  review_scores_location                        8759 non-null   float64       \n 70  review_scores_value                           8759 non-null   float64       \n 71  requires_license                              12074 non-null  object        \n 72  license                                       7149 non-null   object        \n 73  instant_bookable                              12074 non-null  bool          \n 74  is_business_travel_ready                      12074 non-null  bool          \n 75  cancellation_policy                           12074 non-null  object        \n 76  require_guest_profile_picture                 12074 non-null  bool          \n 77  require_guest_phone_verification              12074 non-null  bool          \n 78  calculated_host_listings_count                12074 non-null  int64         \n 79  calculated_host_listings_count_entire_homes   12074 non-null  int64         \n 80  calculated_host_listings_count_private_rooms  12074 non-null  int64         \n 81  calculated_host_listings_count_shared_rooms   12074 non-null  int64         \n 82  reviews_per_month                             8891 non-null   float64       \ndtypes: bool(8), datetime64[ns](3), float64(23), int64(14), object(35)\nmemory usage: 7.1+ MB\n"
    }
   ],
   "source": [
    "def load_and_clean():\n",
    "    df = load_data()\n",
    "    df_dropped = clean_data(df)\n",
    "    return df_dropped\n",
    "df_dropped = load_and_clean()\n",
    "df_dropped.info()"
   ]
  },
  {
   "cell_type": "code",
   "execution_count": 142,
   "metadata": {},
   "outputs": [],
   "source": [
    "df_dropped.to_pickle('airbnb_SF_2019_04_to_2020_04.pkl')"
   ]
  }
 ],
 "metadata": {
  "kernelspec": {
   "display_name": "Python 3",
   "language": "python",
   "name": "python3"
  },
  "language_info": {
   "codemirror_mode": {
    "name": "ipython",
    "version": 3
   },
   "file_extension": ".py",
   "mimetype": "text/x-python",
   "name": "python",
   "nbconvert_exporter": "python",
   "pygments_lexer": "ipython3",
   "version": "3.7.4-final"
  }
 },
 "nbformat": 4,
 "nbformat_minor": 4
}